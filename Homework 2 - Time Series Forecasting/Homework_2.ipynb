{
  "nbformat": 4,
  "nbformat_minor": 0,
  "metadata": {
    "colab": {
      "provenance": []
    },
    "kernelspec": {
      "name": "python3",
      "display_name": "Python 3"
    },
    "language_info": {
      "name": "python"
    }
  },
  "cells": [
    {
      "cell_type": "markdown",
      "source": [
        "# Artificial Neural Networks and Deep Learning - Homework 2"
      ],
      "metadata": {
        "id": "46Yq5kGAhbf0"
      }
    },
    {
      "cell_type": "markdown",
      "source": [
        "| Overfitters del test set    | PoliMi ID |\n",
        "|:----------------------------|:---------:|\n",
        "|Pertino Paolo                | 10729600  |\n",
        "|Sandri Alberto               | 10698469  |\n",
        "|Simionato Enrico             | 10698193  |"
      ],
      "metadata": {
        "id": "tkgCLpGyiJ9N"
      }
    },
    {
      "cell_type": "markdown",
      "source": [
        "In the second homework of the Artificial Neural Networks and Deep Learning course, a time series forecasting is proposed. The goal is to predict future samples of the input time series."
      ],
      "metadata": {
        "id": "dLoTeWcAiRSQ"
      }
    },
    {
      "cell_type": "code",
      "execution_count": null,
      "metadata": {
        "id": "RGncXscmhDMW"
      },
      "outputs": [],
      "source": []
    }
  ]
}